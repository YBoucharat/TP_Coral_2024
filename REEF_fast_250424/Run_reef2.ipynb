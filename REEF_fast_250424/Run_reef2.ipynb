{
 "cells": [
  {
   "cell_type": "code",
   "execution_count": 1,
   "id": "b7178106-97b3-4bfc-bb6e-db7d25c2330c",
   "metadata": {},
   "outputs": [],
   "source": [
    "#Charger le repertoire des scripts\n",
    "# import sys\n",
    "# sys.path.append(\"C:/Users/svissiere/Documents/RepertoireDeTravail/xsREEF\") \n",
    "import numpy as np\n",
    "from matplotlib.pyplot import close, show\n",
    "import matplotlib.pyplot as plt\n",
    "import xarray as xr\n",
    "from reef_models import reef_platform, reef, reef_eros\n",
    "from tools import nlines\n",
    "from tools_models import CheckSimu, ZarrName, shore\n",
    "from Profile import Profile\n",
    "from Dicts import Dicos\n",
    "from datetime import datetime as dtime\n",
    "from os import path\n",
    "import xsimlab as xs\n",
    "# to download xsimlab : pip install xarray-simlab\n"
   ]
  },
  {
   "cell_type": "markdown",
   "id": "9889552f-c9c8-4f5f-8a12-10e38a896817",
   "metadata": {},
   "source": [
    "## Model input dataset"
   ]
  },
  {
   "cell_type": "code",
   "execution_count": 10,
   "id": "7c4c8606-4a86-456b-b48a-856db071b881",
   "metadata": {},
   "outputs": [
    {
     "name": "stdout",
     "output_type": "stream",
     "text": [
      "21000.0\n"
     ]
    }
   ],
   "source": [
    "# %create_setup -v reef\n",
    "\n",
    "dt = 200 # You can go up to 400 for detailed long simu, for a quick view, up to 1000\n",
    "dico = Dicos()\n",
    "\n",
    "# The first relevant parameters to test are : vertical__u, construct__Gm, hfactor__Dbar, eros__Ev.\n",
    "# Remove the platform for the first tests I think, but if you prefer with one go ahead ! When you see better how the 4 \n",
    "# parameters works, you can try another one, and bit by bit explore everything. If you want, at the end you can try also \n",
    "# to test \"hfactor__how\". But do not change the values of the other parameters in the \"no need to test\" part.\n",
    "\n",
    "#SL = 'Bintanja2008-1000k'\n",
    "#SL = 'Waelbroeck2002-137ky'\n",
    "# SL = 'Waelbroeck2002b'\n",
    "SL = 'Holocene-SL.dat'\n",
    "#SL = 'Grant2014-1000ky.dat'\n",
    "#SL = 'Bintanja2005.dat'\n",
    "tmax = nlines(dico.path_SLcurves+SL)*1e3\n",
    "print(tmax)\n",
    "\n",
    "ds_in = xs.create_setup(\n",
    "    model=reef,\n",
    "    clocks={\n",
    "        'time' : np.arange(0., tmax+dt, dt),\n",
    "},\n",
    "    master_clock = 'time',\n",
    "    input_vars={\n",
    "        ## Usefull parameters to test. Everything in meters and years.\n",
    "        # vertical land motion rate. [-10 - 2]e-3 (huge values, you can test before with 0.something e-3)\n",
    "        'vertical__u': 0.5e-3,\n",
    "        # initial slope of the substrate. [2 - 8]\n",
    "        'grid__slopi': 6e-2,\n",
    "        # maximum reef growth rate. [2 - 15]\n",
    "        'construct__Gm': 6e-3,\n",
    "        # maximum water height for reef growth. [10 - 50] \n",
    "        'construct__hmax':20,\n",
    "        # width of wave action (controls the width of the coral reef). [10 - 3000] \n",
    "        'hfactor__Dbar': 100,\n",
    "        # Eroded volume. [50 - 1000]e-3\n",
    "        'eros__Ev': 60e-3,\n",
    "        # Water height for wave base (the waves will start to erode at this depth). [1 - 10]\n",
    "        'eros__hwb': 3.,\n",
    "        # # Elevation of antecedent terrace. As you want, depends on vertical__u.\n",
    "        # 'init__zterr': -20,\n",
    "        # # Length of antecedent terrace. Put it to 0 if no platform, 10000 is already big\n",
    "        # 'init__lterr': 3200,\n",
    "        # # Terrace's slope\n",
    "        # 'init__sloplat': 0.e-2,\n",
    "        # # Sinus noise wavelength\n",
    "        # 'init__wavelength' : 2500,\n",
    "        # # Sinus amplitude\n",
    "        # 'init__amplitude' : 10,\n",
    "        ## No need to test \n",
    "        # Water height for open ocean\n",
    "        'hfactor__how': 2,\n",
    "        # uniform spacing\n",
    "        'grid__spacing': 1,\n",
    "        # filename for RSL reconstruction\n",
    "        'SLstory__RSLin': SL,\n",
    "        # I don't know.... \n",
    "        'grid__dmax': 20,\n",
    "        # Coefficient for erosion efficiency, sea-bed\n",
    "        'eros__beta1': 0.1,\n",
    "        # Coefficient for erosion efficiency, cliff retreat\n",
    "        'eros__beta2': 1,\n",
    "        # Height of notch for volume eroded during cliff retreat\n",
    "        'eros__hnotch': 1,\n",
    "        # ---\n",
    "        'depot__repos': 15e-2,\n",
    "    },\n",
    "    output_vars={\n",
    "        'init__x'       : None,\n",
    "        'profile__z'    : 'time',\n",
    "        'sealevel__asl' : 'time',\n",
    "        'profile__xmin' : None,\n",
    "        'profile__xmax' : None,\n",
    "        'depot__dS'     : 'time',\n",
    "        'construct__dG' : 'time',\n",
    "    }\n",
    ")\n",
    "\n",
    "#     output_vars={\n",
    "#         'init__x'       : None,\n",
    "#         'profile__z'    : None,\n",
    "#         'sealevel__asl' : None,\n",
    "#         'profile__xmin' : None,\n",
    "#         'profile__xmax' : None,\n",
    "#     }\n",
    "# )\n",
    "\n",
    "### The second set of outputs, with all set to \"None\", is to compute only the last profile. See below.\n",
    "\n",
    "\n",
    "ds_in.attrs['model_name'] = 'reef'\n",
    "ds_in.attrs['store'] = 'Profile'"
   ]
  },
  {
   "cell_type": "markdown",
   "id": "108499fe-109b-4eba-be93-c1c15b2822da",
   "metadata": {},
   "source": [
    "# Run"
   ]
  },
  {
   "cell_type": "code",
   "execution_count": 11,
   "id": "098317d5-c290-4f04-af24-707db747ce8e",
   "metadata": {
    "scrolled": true
   },
   "outputs": [
    {
     "name": "stdout",
     "output_type": "stream",
     "text": [
      "2024-04-16 07:55:57.479851\n",
      "reef\n",
      "./Outs/Zarr/Profiles/reef/reef_Profile_Holocene-SL.dat-u0.5-slopi6.0-Gm6.0-dmax20-hmax20-Dbar100-How2-Ev60.0-Hwb3.0-tmax21ky-dt200y.zarr\n",
      "reef\n",
      "Done\n",
      "WORK !!!\n",
      "save\n",
      "Duration 0:00:07.286218\n"
     ]
    }
   ],
   "source": [
    "# Code to compute and plot at each time step\n",
    "              \n",
    "t0=dtime.today()\n",
    "print(t0)\n",
    "\n",
    "# Running the simulation if it doesn't exist\n",
    "if CheckSimu(ds_in, simu=True, view=True):\n",
    "    ds = xr.open_zarr(ZarrName(ds_in))\n",
    "\n",
    "    # Plotting figure\n",
    "    fig = Profile(ds)\n",
    "    fig.ProfileName('.png')\n",
    "\n",
    "#                             # If the figure already exists, skip the iteration\n",
    "    if path.exists(fig.namepath+fig.namefig):\n",
    "        print('Done')\n",
    "        close('all')\n",
    "\n",
    "    fig.PlotProfile()\n",
    "#                             fig.PlotData('DemoProfil.txt')\n",
    "    fig.PlotASL()\n",
    "    fig.WriteParams()\n",
    "\n",
    "    print('save')\n",
    "    fig.Savefig()\n",
    "    show()\n",
    "    close('all')\n",
    "    print('Duration', dtime.today()-t0)\n"
   ]
  },
  {
   "cell_type": "code",
   "execution_count": 9,
   "id": "3ac9f4a0-133a-442e-b0e3-0a11148c3601",
   "metadata": {},
   "outputs": [],
   "source": [
    "### Run cell to compute only the last profile (with outputs on \"None,None,None...\")\n",
    "\n",
    "# from Dict_models import DicoModels\n",
    "\n",
    "# t0=dtime.today()\n",
    "\n",
    "# dm   = DicoModels()\n",
    "# with dm.models[ds_in.model_name]:\n",
    "#     ds_out = (ds_in   \n",
    "#       .xsimlab.run()\n",
    "#           )\n",
    "# print('Duration', dtime.today()-t0)\n"
   ]
  },
  {
   "cell_type": "code",
   "execution_count": null,
   "id": "d318f450-f0e5-4adf-ac4d-8eeb88612001",
   "metadata": {},
   "outputs": [],
   "source": [
    "### Plot the last profile, run the cell above firstly\n",
    "\n",
    "# plt.plot(ds_out.profile__z)\n",
    "\n",
    "# # # To zoom on the profile. First, let this commented, plot the profile and check where to zoom.\n",
    "# # plt.xlim(4000,6000)\n",
    "# # plt.ylim(-200,0)"
   ]
  },
  {
   "cell_type": "code",
   "execution_count": null,
   "id": "e0e2ed26-1105-41f6-aab0-20bcc04ded4e",
   "metadata": {},
   "outputs": [],
   "source": []
  }
 ],
 "metadata": {
  "kernelspec": {
   "display_name": "venv",
   "language": "python",
   "name": "venv"
  },
  "language_info": {
   "codemirror_mode": {
    "name": "ipython",
    "version": 3
   },
   "file_extension": ".py",
   "mimetype": "text/x-python",
   "name": "python",
   "nbconvert_exporter": "python",
   "pygments_lexer": "ipython3",
   "version": "3.10.12"
  }
 },
 "nbformat": 4,
 "nbformat_minor": 5
}
